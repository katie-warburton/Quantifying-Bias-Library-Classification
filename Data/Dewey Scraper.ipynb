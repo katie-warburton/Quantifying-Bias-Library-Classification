{
 "cells": [
  {
   "cell_type": "markdown",
   "id": "cac6e7a3",
   "metadata": {},
   "source": [
    "# Dewey Scraper\n",
    "\n",
    "Code to get fine-grained Dewey Decimal Classification (DDC) categories (categories past the decimal place) from the MDS table on [LibraryThing.com](https://www.librarything.com/mds/). Used to help generate a tree representation of the DDC for the paper \"Quantifying Bias in Hierarchical Category Systems.\"\n",
    "\n",
    "Number of collected categories may change subject to website updates. On March 23, 2022 32,661 fine-grained categories were collected. \n",
    "\n",
    "## Imports"
   ]
  },
  {
   "cell_type": "code",
   "execution_count": null,
   "id": "19b00a3a",
   "metadata": {},
   "outputs": [],
   "source": [
    "import requests \n",
    "import pickle\n",
    "import re\n",
    "from bs4 import BeautifulSoup"
   ]
  },
  {
   "cell_type": "markdown",
   "id": "ad50f87e",
   "metadata": {},
   "source": [
    "## Functions"
   ]
  },
  {
   "cell_type": "code",
   "execution_count": null,
   "id": "c285ec47",
   "metadata": {},
   "outputs": [],
   "source": [
    "'''\n",
    "Extract information from a table contianing DDC categories.\n",
    "Input is a BeautifulSoup object representing the contents\n",
    "of a page. \n",
    "'''\n",
    "def get_dewey(soup):\n",
    "    ddc = soup.find_all('table', class_=\"ddc\")\n",
    "    if len(ddc) == 0:\n",
    "        return []\n",
    "    else:\n",
    "        ddc = ddc[0]\n",
    "    # extract all rows\n",
    "    ddc = ddc.find_all('tr')\n",
    "    if len(ddc) == 0:\n",
    "        return []\n",
    "    else:\n",
    "        return ddc[-1]\n",
    "\n",
    "'''\n",
    "Extract categories from a DDC table with both a name and\n",
    "a number. \n",
    "'''\n",
    "def get_data(ddc):\n",
    "    data = []\n",
    "    for dat in ddc.select('td'):\n",
    "        num = re.search(\"\\d+(\\.\\d+)?\", dat.get('onclick'))[0]\n",
    "        name = dat.select('.word')\n",
    "        # if the category has both a name and a classification number\n",
    "        if name != [] and not re.search('^-*$', name[0].get_text()):\n",
    "            data.append((num, name[0].get_text()))\n",
    "    return data\n",
    "\n",
    "'''\n",
    "Crawl a subpage of the MDS table on LibraryThings.com and\n",
    "extract DDC category information.\n",
    "'''\n",
    "def crawl(new_url, base_url, class_data):\n",
    "    page = requests.get(new_url)\n",
    "    soup = BeautifulSoup(page.content, 'html.parser')\n",
    "    ddc = get_dewey(soup)     \n",
    "    data = get_data(ddc)\n",
    "    # if sub categories already parsed \n",
    "    if all(d in class_data for d in data):\n",
    "        pass\n",
    "    else:\n",
    "        # parse subcategories of a category\n",
    "        class_data += data\n",
    "        for dat in data:\n",
    "            new_link = base_url + '/' + dat[0]\n",
    "            prev_url = new_url[-1]\n",
    "            if prev_url == new_link:\n",
    "                break\n",
    "            else:\n",
    "                crawl(new_link, base_url, class_data)\n",
    "\n",
    "'''\n",
    "Read in existing DDC categories\n",
    "'''\n",
    "def all_valid_ddc(filePath):\n",
    "    ddc = []\n",
    "    with open(filePath, 'r', encoding=\"utf8\") as f:\n",
    "        data = f.readlines()\n",
    "    for row in data[1:]:\n",
    "        row_data = row.replace('\\n', '').split('\\t')\n",
    "        ddc.append(row_data[0])\n",
    "    return list(set(ddc))\n",
    "\n",
    "'''\n",
    "Function to extract categories past the decimal place\n",
    "in the DDC from LibraryThing.com's MDS table. \n",
    "'''\n",
    "def get_fine_grained_names(ddc, all_data):\n",
    "    i = 1\n",
    "    for num in ddc:\n",
    "        url = 'https://www.librarything.com/mds/' + num\n",
    "        print(f\"crawling for ddc: {num} using url: {url}\")\n",
    "        crawl(url, 'https://www.librarything.com/mds', all_data)\n",
    "        print(f\"finished crawl {i}, list is now length {len(all_data)}\")\n",
    "        i += 1"
   ]
  },
  {
   "cell_type": "code",
   "execution_count": null,
   "id": "7d03096d",
   "metadata": {
    "scrolled": true
   },
   "outputs": [],
   "source": [
    "ddc_3dig = all_valid_ddc('Library Data/DDC/ddc22-summaries-eng.txt')\n",
    "ddc_3dig.sort()\n",
    "all_data = []\n",
    "get_fine_grained_names(ddc_3dig, all_data)\n",
    "print(len(all_data))"
   ]
  },
  {
   "cell_type": "code",
   "execution_count": null,
   "id": "a7041c0b",
   "metadata": {},
   "outputs": [],
   "source": [
    "with open('Library Data\\\\DDC\\\\ddc_fg.pk', 'wb') as f:\n",
    "    pickle.dump(all_data, f)"
   ]
  }
 ],
 "metadata": {
  "kernelspec": {
   "display_name": "Python 3",
   "language": "python",
   "name": "python3"
  },
  "language_info": {
   "codemirror_mode": {
    "name": "ipython",
    "version": 3
   },
   "file_extension": ".py",
   "mimetype": "text/x-python",
   "name": "python",
   "nbconvert_exporter": "python",
   "pygments_lexer": "ipython3",
   "version": "3.10.13"
  }
 },
 "nbformat": 4,
 "nbformat_minor": 5
}
