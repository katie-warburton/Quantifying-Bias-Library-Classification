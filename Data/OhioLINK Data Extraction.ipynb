{
 "cells": [
  {
   "cell_type": "markdown",
   "id": "7a80d81b",
   "metadata": {},
   "source": [
    "# OhioLINK Data Extraction\n",
    "\n",
    "## Attributions\n",
    "\n",
    "This work contains data from [OhioLINK Circulation Data](https://www.oclc.org/research/areas/systemwide-library/ohiolink/circulation.html) which is made available by OCLC Online Computer Library Center, Inc. and OhioLINK under the [ODC Attribution License]( https://www.oclc.org/research/areas/systemwide-library/ohiolink/odcby.html).\n",
    "\n",
    "The 3 files used are:\n",
    "- OhioLINK_1.marc\n",
    "- OhioLINK_2.marc\n",
    "- OhioLINKCirc.fil\n",
    "\n",
    "They should be stored in the folder Library Bias Analysis/Data/OhioLINK Data.\n",
    "\n",
    "## Imports\n",
    "\n",
    "- [*pymarc*](https://pypi.org/project/pymarc/) handles the bibliographic data stored in .marc files "
   ]
  },
  {
   "cell_type": "code",
   "execution_count": 1,
   "id": "3721d2e6",
   "metadata": {},
   "outputs": [],
   "source": [
    "import pickle\n",
    "import random\n",
    "from pymarc import MARCReader"
   ]
  },
  {
   "cell_type": "markdown",
   "id": "96434e12",
   "metadata": {},
   "source": [
    "## MARC Bibliographic Data\n",
    "\n",
    "Extract bibliographic information from MARC records. Bibliograhic data is stored in .marc files that follow the MARC 21 standard for bibliographic data. MARC files are parsed to extract Library of Congress Classification (LCC) and Dewey Decimal Classification (DDC) numbers for each item with a unique OCLC number. A unique OCLC number corresponds to a unique library resource (i.e. book, enyclopedia, article, etc.) \n",
    "\n",
    "#### Summary of relevant tags \n",
    "- '050': Library of Congress Classification Number \n",
    "- '090': Locally assigned LCC number (not supposed to be used anymore but still exists)\n",
    "- '082': Dewey Decimal Classification Number\n",
    "- '092': Locally assigned DDC number\n",
    "- '001': OCLC number (for this dataset)\n",
    "- '100': The main author or the person chiefly responsible for the work \n",
    "\n",
    "#### Missing LCC and DDC Data\n",
    "- Some records did not contain a field with the tag '050' and/or the tag '082'. \n",
    "- Some records contained a field with tag '090' or '092' for locally assigned LCC and DDC numbers respectively\n",
    "\n",
    "    \n",
    "#### Items with more than one LCC or DDC number\n",
    "\n",
    "Some MARC files can have multiple LCC or DDC tags (multiple entries tagged with '050' or '082'). For simplicity only the first tag is considered\n",
    "\n",
    "### Loading Bibliographic Data"
   ]
  },
  {
   "cell_type": "code",
   "execution_count": 2,
   "id": "ecd8a709",
   "metadata": {},
   "outputs": [],
   "source": [
    "def getMarcData(filepath, bibList):\n",
    "    i = 0\n",
    "    with open(filepath, 'rb') as f:\n",
    "        reader = MARCReader(f, to_unicode=True, force_utf8=True,utf8_handling='ignore')\n",
    "        for record in reader:\n",
    "            if i == 0:\n",
    "                example = record \n",
    "            # Library of Congress Call Number \n",
    "            lcc = [subfield for field in record.get_fields('050') for subfield in field.get_subfields('a')]\n",
    "            if lcc == []:\n",
    "                lcc = [subfield for field in record.get_fields('090') for subfield in field.get_subfields('a')]   \n",
    "            # Dewey Decimal Classification Number\n",
    "            ddc = [subfield for field in record.get_fields('082') for subfield in field.get_subfields('a')] \n",
    "            if ddc == []:\n",
    "                ddc = [subfield for field in record.get_fields('092') for subfield in field.get_subfields('a')] \n",
    "\n",
    "            if lcc == []: lcc = None\n",
    "            if ddc == []: ddc = None\n",
    "            \n",
    "            main_auth = [subfield for field in record.get_fields('100') for subfield in field.get_subfields('a')]\n",
    "            oclc = int(record['001'].value()[3:])\n",
    "            bibList.append({'title': record.title, \n",
    "                'auth': main_auth, \n",
    "                'lcc': lcc, \n",
    "                'ddc': ddc, \n",
    "                'pub': record.pubyear,\n",
    "                'oclc': oclc})\n",
    "            # OCLC number, LCCN, main author, year published, title, additional people, dewey\n",
    "            #bibList.append(oclc, lcc, ddc, main_auth, record.pubyear, record.title))\n",
    "            i+=1\n",
    "            if i%500000 == 0:\n",
    "                print(f'{i} files read.')\n",
    "\n",
    "    return (bibList, example)"
   ]
  },
  {
   "cell_type": "code",
   "execution_count": 3,
   "id": "bd20fea8",
   "metadata": {},
   "outputs": [
    {
     "name": "stdout",
     "output_type": "stream",
     "text": [
      "Reading MARC records from file 1\n",
      "500000 files read.\n",
      "1000000 files read.\n",
      "1500000 files read.\n",
      "2000000 files read.\n",
      "2500000 files read.\n",
      "3000000 files read.\n",
      "3500000 files read.\n",
      "\n",
      "Reading MARC records from file 2\n",
      "500000 files read.\n",
      "1000000 files read.\n",
      "1500000 files read.\n",
      "2000000 files read.\n",
      "2500000 files read.\n"
     ]
    }
   ],
   "source": [
    "filePath1 = 'OhioLINK Data\\\\OhioLINK_1.marc'\n",
    "filePath2 = 'OhioLINK Data\\\\OhioLINK_2.marc'\n",
    "\n",
    "bibList = []\n",
    "print('Reading MARC records from file 1')\n",
    "bibList, example = getMarcData(filePath1, bibList)\n",
    "print('\\nReading MARC records from file 2')\n",
    "bibList, _ = getMarcData(filePath2, bibList)"
   ]
  },
  {
   "cell_type": "markdown",
   "id": "888fb565",
   "metadata": {},
   "source": [
    "### Example of bibliographic data\n",
    "\n",
    "- The first is an example of an entry in a .marc file. \n",
    "- The second is a tuple containg the relevant information extracted from the .marc file\n",
    "    - (OCLC number, LCCN, main author, year published, title, additional people)\n",
    "- The third is an additional example of data stored in the tuple"
   ]
  },
  {
   "cell_type": "code",
   "execution_count": 4,
   "id": "a7c4ac51",
   "metadata": {},
   "outputs": [
    {
     "name": "stdout",
     "output_type": "stream",
     "text": [
      "=LDR  01075cam  2200289 a 4500\n",
      "=001  ocm00000001\\\n",
      "=003  OCoLC\n",
      "=005  20061229000001.0\n",
      "=008  690526s1963\\\\\\\\ilua\\\\\\j\\\\\\\\\\\\000\\1\\eng\\\\\n",
      "=010  \\\\$a   63011276 \n",
      "=040  \\\\$aDLC$cDLC$dIUL$dOCL$dOCLCQ$dTML$dOCL$dOCLCQ$dBTCTA\n",
      "=019  \\\\$a6567842$a9987701$a53095235\n",
      "=042  \\\\$alcac\n",
      "=050  00$aPZ5$b.R1924 \n",
      "=082  00$a[Fic]\n",
      "=096  \\\\$aQV 4 An78 v.46 2006\n",
      "=245  04$aThe Rand McNally book of favorite pastimes /$cillustrated by Dorothy Grider.\n",
      "=246  30$aFavorite pastimes\n",
      "=260  \\\\$aChicago :$bRand McNally,$c[1963]\n",
      "=300  \\\\$a110 p. :$bcol. ill. ;$c33 cm.\n",
      "=520  \\\\$aBoys and girls in these four stories work hard to master ballet dancing, riding, baton twirling, and swimming.\n",
      "=505  0\\$aLittle ballerina / by D. Grider -- Little horseman / by M. Watts -- Little majorette / by D. Grider -- Little swimmers / by V. Hunter.\n",
      "=650  \\1$aShort stories.\n",
      "=700  1\\$aGrider, Dorothy.\n",
      "=700  1\\$aHunter, Virginia.\n",
      "=938  \\\\$aBaker and Taylor$bBTCP$n63011276\n",
      "=994  \\\\$a11$bOCL$i00466\n",
      "\n",
      "{'title': 'Mudlumps at the mouth of South Pass, Mississippi River; sedimentology, paleontology, structure, origin, and relation to deltaic processes,', 'auth': ['Morgan, James P.'], 'lcc': ['GB475.L6'], 'ddc': ['589.3'], 'pub': '1963.', 'oclc': 2} \n",
      "\n",
      "{'title': 'Anne Blake : a play in five acts /', 'auth': ['Marston, Westland,'], 'lcc': ['PR4980.M8'], 'ddc': ['808.2'], 'pub': '1852.', 'oclc': 6313443}\n"
     ]
    }
   ],
   "source": [
    "print(example)\n",
    "print(bibList[1], \"\\n\")\n",
    "print(random.choice(bibList))"
   ]
  },
  {
   "cell_type": "markdown",
   "id": "5917fe69",
   "metadata": {},
   "source": [
    "## OhioLINK Circulation Data\n",
    "\n",
    "Extract circulation statistics from the OhioLINK circulation data. This dataset contains usage data on books in the Ohio Academic libraries from 2007-2008.  3 Key pieces of information were extracted for each unique OCLC number:\n",
    "- The number of books with this OCLC number (i.e. how many copies of a book there are across the Ohio Academic libraries)\n",
    "- The number of books with this OCLC number that were in circulation (available for borrowing)\n",
    "- The total number of times books with this OCLC number were borrowed (total circulation)\n",
    "- The number of times books with this OCLC number were borrowed in 2007 (annual circulation)"
   ]
  },
  {
   "cell_type": "code",
   "execution_count": 5,
   "id": "b6c2c5a0",
   "metadata": {},
   "outputs": [],
   "source": [
    "filePath = 'OhioLINK Data\\\\OhioLinkCirc.fil'\n",
    "with open(filePath, 'r') as f:\n",
    "    circDat = f.read().splitlines()\n",
    "circDat = [item.split('\\t') for item in circDat]"
   ]
  },
  {
   "cell_type": "code",
   "execution_count": 6,
   "id": "4d9e8ab4",
   "metadata": {},
   "outputs": [],
   "source": [
    "# Stores each resources circulation data in a dictionary.\n",
    "# Each key corresponds to a unique OCLC number. \n",
    "def gatherCircStats(itemList):\n",
    "    #{oclcNum:[numItems, numItemsInCirc, totalCirculation, anualCirc]}\n",
    "    itemDic = {}\n",
    "    for item in itemList:\n",
    "        if int(item[1]) not in itemDic.keys():\n",
    "            itemDic[int(item[1])] = [1, int(item[9]), int(item[10]), int(item[11])]\n",
    "        else:\n",
    "            itemDic[int(item[1])][0] += 1  # copies\n",
    "            itemDic[int(item[1])][1] += int(item[9]) # copies in circulation\n",
    "            itemDic[int(item[1])][2] += int(item[10]) # total circulation\n",
    "            itemDic[int(item[1])][3] += int(item[11]) # circulation in 2007\n",
    "    return itemDic\n",
    "\n",
    "def addCircStats(books, circStats):\n",
    "    for item in books:\n",
    "        if item['oclc'] in circStats.keys():\n",
    "            num = item['oclc']\n",
    "            item['copies'] = circStats[num][0]\n",
    "            item['total_circ'] = circStats[num][-1] # total circulation in 2007\n",
    "            item['circ_status'] = circStats[num][1] # 0 only if no copies of the book circulated\n",
    "        else:\n",
    "            print('Not in MARC')\n",
    "\n",
    "circStats = gatherCircStats(circDat)\n",
    "addCircStats(bibList, circStats)"
   ]
  },
  {
   "cell_type": "code",
   "execution_count": 9,
   "id": "6662c8b5",
   "metadata": {},
   "outputs": [],
   "source": [
    "with open('OhioLINK Data\\\\marcData.pk', 'wb') as f:\n",
    "    pickle.dump(bibList, f)"
   ]
  }
 ],
 "metadata": {
  "kernelspec": {
   "display_name": "OptimalityProj",
   "language": "python",
   "name": "python3"
  },
  "language_info": {
   "codemirror_mode": {
    "name": "ipython",
    "version": 3
   },
   "file_extension": ".py",
   "mimetype": "text/x-python",
   "name": "python",
   "nbconvert_exporter": "python",
   "pygments_lexer": "ipython3",
   "version": "3.10.13"
  }
 },
 "nbformat": 4,
 "nbformat_minor": 5
}
