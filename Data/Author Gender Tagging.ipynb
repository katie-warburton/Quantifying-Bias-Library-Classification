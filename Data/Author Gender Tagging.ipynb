{
 "cells": [
  {
   "cell_type": "markdown",
   "id": "c605f359",
   "metadata": {},
   "source": [
    "# Author Gender Tagging\n",
    "Code to tag OhioLINK MARC records for books with their author's gender as recorded in the VIAF. \n",
    "\n",
    "The files \"author-name-index.parquet\" and \"author-genders.parquet\" were kindly shared with us by Michael Ekstrand for use in this project and are not stored in the OSF repository. The two files can be generated using the [PIRetT Book Data Tools](https://bookdata.piret.info/data/viaf.html) and should be stored in the folder *Library Bias Analysis/Data/Author Data*. The PIReT tools are described in\n",
    "> Ekstrand, M. D., and Kluver, D. (2021). Exploring Author Gender in Book Rating and Recommendation. *User Modeling and User-Adapted Interaction, 31(3)*, 377–420. doi: https://doi.org/10.1007/s11257-020-09284-2.\n",
    "\n",
    "It should be noted that the VIAF dataset is incomplete and in some cases incorrect as the VIAF only records an author's gender as 'male', 'female', or 'unknown' and does not record any non-binary genders. Further analyses using this data are thus limited. \n",
    "\n",
    "MARC records can link to multiple VIAF records. Following the linking processed used by Ekstrand & Kluver (2021), MARC records with a matching author in the VIAF dataset are tagged as 'male', 'female', 'unknown' or 'ambiguous'. 'Ambiguous' is only used if a MARC record matches to at least one male author record <u>and</u> at least one female author record. \n",
    "\n",
    "\n",
    "## Imports"
   ]
  },
  {
   "cell_type": "code",
   "execution_count": 1,
   "id": "79c6a974",
   "metadata": {
    "scrolled": false
   },
   "outputs": [],
   "source": [
    "import pickle as pk\n",
    "import polars as pl\n",
    "import pandas as pd\n",
    "import regex as re"
   ]
  },
  {
   "cell_type": "markdown",
   "id": "81596328",
   "metadata": {},
   "source": [
    "## Functions"
   ]
  },
  {
   "cell_type": "code",
   "execution_count": 2,
   "id": "2215b222",
   "metadata": {},
   "outputs": [],
   "source": [
    "def percent(count, total):\n",
    "    return (count/total)*100\n",
    "\n",
    "def renorm(num1, num2):\n",
    "    return (num1 / (num1+num2))*100\n",
    "\n",
    "'''\n",
    "Link data from author-name-index.parquet and author-genders.parquet then\n",
    "convert it to a pandas dataframe with a column for author names and a \n",
    "column for author genders. \n",
    "'''\n",
    "def extract_auth_gens():\n",
    "    auth_name_idx = pl.scan_parquet('Author Data/author-name-index.parquet')\n",
    "    auth_gen = pl.scan_parquet('Author Data/author-genders.parquet')\n",
    "    joined = auth_name_idx.join(auth_gen, left_on='rec_id', right_on='rec_id')\n",
    "    name_w_gen = joined.select(['name', 'gender']).unique()\n",
    "    return name_w_gen.collect().to_pandas()\n",
    "\n",
    "'''\n",
    "Preprocess names to match format in author-name-index.parquet. Method\n",
    "intended to mirror name processing from Ekstrand & Kluver (2021).\n",
    "'''\n",
    "def process_name(name):\n",
    "    #strip leading and trailing whitespace\n",
    "    name = name.strip()\n",
    "    # strip trailing punctuation\n",
    "    name = name.rstrip('.,_-()')\n",
    "    # remove remaning periods\n",
    "    name = name.replace('.', '')\n",
    "    # remove square brackets\n",
    "    name = name.replace('[', '').replace(']', '')\n",
    "    #remove dates\n",
    "    name = re.sub(',?( d|,d)? ?\\d{4} ?-? ?\\d{,4}', '', name)\n",
    "    #remove trailing numbers\n",
    "    name = re.sub('\\d*$| \\d*$', '', name)\n",
    "    #deal with brackets \n",
    "    name = re.sub(' ?\\([^)]*\\)?', '', name)   \n",
    "    #final strip\n",
    "    name = name.strip()\n",
    "    return name\n",
    "\n",
    "'''\n",
    "Tag a MARC record with its author's gender based on the genders listed\n",
    "in the VIAF records it is linked too. Tagging convention of male, female, \n",
    "ambiguous, or unknown follows the linking method used in Ekstrand & \n",
    "Kluver (2021).\n",
    "'''\n",
    "def get_gender_tag(genList):\n",
    "    # if only one VIAF records links to a MARC record\n",
    "    if len(genList) == 1:\n",
    "        gen = genList[0]\n",
    "    else:\n",
    "        # if all linked VIAF records list the same gender\n",
    "        if genList.count(genList[0]) == len(genList):\n",
    "            gen = genList[0]\n",
    "        elif 'unknown' in genList:\n",
    "            sub_vals = [val for val in genList if val != 'unknown']\n",
    "            # if all linked VIAF records are either the same known gender or unknown \n",
    "            if sub_vals.count(sub_vals[0]) == len(sub_vals):\n",
    "                gen = sub_vals[0]\n",
    "            else:\n",
    "                gen = 'ambiguous'\n",
    "        # if linked VIAF records list both male and female\n",
    "        else:\n",
    "            gen = 'ambiguous'        \n",
    "    return gen"
   ]
  },
  {
   "cell_type": "markdown",
   "id": "2079dbb2",
   "metadata": {},
   "source": [
    "## Load Data\n",
    "\n",
    "#### OhioLINK Data"
   ]
  },
  {
   "cell_type": "code",
   "execution_count": 3,
   "id": "12477f9a",
   "metadata": {},
   "outputs": [],
   "source": [
    "with open('OhioLINK Data/marcData.pk', 'rb') as f:\n",
    "    bookList = pk.load(f)\n",
    "totalMARC = len(bookList)"
   ]
  },
  {
   "cell_type": "markdown",
   "id": "dacd0d47",
   "metadata": {},
   "source": [
    "#### VIAF Data"
   ]
  },
  {
   "cell_type": "code",
   "execution_count": 4,
   "id": "23fdda16",
   "metadata": {},
   "outputs": [],
   "source": [
    "auth_gen_df = extract_auth_gens()\n",
    "num_uk = auth_gen_df['gender'].value_counts()[0] # unknown\n",
    "num_m = auth_gen_df['gender'].value_counts()[1] # male\n",
    "num_f = auth_gen_df['gender'].value_counts()[2] # female\n",
    "totalVIAF = num_uk + num_f + num_m"
   ]
  },
  {
   "cell_type": "code",
   "execution_count": 5,
   "id": "c8e152e1",
   "metadata": {},
   "outputs": [
    {
     "name": "stdout",
     "output_type": "stream",
     "text": [
      "There are 44,923,746 author records:\n",
      "\t10.70% are female      \n",
      "\t26.79% are male\n",
      "\t62.50% are unknown\n",
      "Renormalized:\n",
      "\t28.55% are female\n",
      "\t71.45% are male\n"
     ]
    }
   ],
   "source": [
    "print(f'There are {totalVIAF:,} author records:\\n\\t{round(percent(num_f, totalVIAF), 2):.2f}% are female\\\n",
    "      \\n\\t{round(percent(num_m, totalVIAF), 2):.2f}% are male\\n\\t{round(percent(num_uk, totalVIAF), 2):.2f}% are unknown')\n",
    "print(f'Renormalized:\\n\\t{round(renorm(num_f, num_m), 2):.2f}% are female\\n\\t{round(renorm(num_m, num_f), 2):.2f}% are male')"
   ]
  },
  {
   "cell_type": "markdown",
   "id": "41e509ac",
   "metadata": {},
   "source": [
    "## Link Data"
   ]
  },
  {
   "cell_type": "code",
   "execution_count": 6,
   "id": "b1edfc26",
   "metadata": {},
   "outputs": [],
   "source": [
    "# Process MARC record author names and collect OCLC numbers\n",
    "names = [process_name(item['auth'][0]) for item in bookList if item['auth'] != []]\n",
    "oclc = [item['oclc'] for item in bookList if item['auth'] != []]"
   ]
  },
  {
   "cell_type": "code",
   "execution_count": 7,
   "id": "b1e4ef67",
   "metadata": {},
   "outputs": [],
   "source": [
    "# Join MARC records with VIAF records based on author names\n",
    "book_df = pd.DataFrame({'oclc': oclc, 'name': names})\n",
    "joined = book_df.set_index('name').join(auth_gen_df.set_index('name'))\n",
    "joined = joined[joined['gender'].notnull()]"
   ]
  },
  {
   "cell_type": "code",
   "execution_count": 8,
   "id": "4537191f",
   "metadata": {},
   "outputs": [],
   "source": [
    "# Extract unique author name, author gender pairs unique oclc numbers\n",
    "gen_dat = [(x, y) for x, y in zip(joined['oclc'], \n",
    "                                  joined['gender'])]\n",
    "oclcs = [item[0] for item in gen_dat]\n",
    "uniq_oclc = list(set(oclcs))"
   ]
  },
  {
   "cell_type": "code",
   "execution_count": 9,
   "id": "57a071ef",
   "metadata": {},
   "outputs": [],
   "source": [
    "# Build author gender lookup table\n",
    "gen_hash = {oclc: [] for oclc in uniq_oclc}\n",
    "for oclc, gen in gen_dat:\n",
    "    gen_hash[oclc].append(gen)\n",
    "for key, value in gen_hash.items():\n",
    "    gender = get_gender_tag(value)\n",
    "    gen_hash[key] = gender"
   ]
  },
  {
   "cell_type": "code",
   "execution_count": 10,
   "id": "70af0d3b",
   "metadata": {},
   "outputs": [],
   "source": [
    "with open('Author Data/authorGender.pk', 'wb') as f:\n",
    "    pk.dump(gen_hash, f)"
   ]
  },
  {
   "cell_type": "markdown",
   "id": "5954f084",
   "metadata": {},
   "source": [
    "## Data Breakdown\n",
    "Note: These results are the tagging breakdown for the entire set of MARC records, not just records with both a valid LCC and DDC. Thus the percentages will differ from the results reported for the item gender bias analyses."
   ]
  },
  {
   "cell_type": "code",
   "execution_count": 11,
   "id": "a3b68751",
   "metadata": {},
   "outputs": [],
   "source": [
    "noVIAF, noMARC, mCount, fCount, uCount, aCount = 0, 0, 0, 0, 0, 0\n",
    "for item in bookList:\n",
    "    if item['auth'] == []:\n",
    "        noMARC += 1\n",
    "    elif item['oclc'] not in gen_hash.keys():\n",
    "        noVIAF += 1\n",
    "    elif gen_hash[item['oclc']] == 'male':\n",
    "        mCount += 1\n",
    "    elif gen_hash[item['oclc']] == 'female':\n",
    "        fCount += 1\n",
    "    elif gen_hash[item['oclc']] == 'ambiguous':\n",
    "        aCount += 1\n",
    "    elif gen_hash[item['oclc']] == 'unknown':\n",
    "        uCount += 1"
   ]
  },
  {
   "cell_type": "code",
   "execution_count": 12,
   "id": "77dfc224",
   "metadata": {},
   "outputs": [
    {
     "name": "stdout",
     "output_type": "stream",
     "text": [
      "In the dataset of 6,779,969 books:\n",
      "\t51.31% have a known gender\n",
      "\t11.86% are unknown\n",
      "\t0.63% are ambiguous    \n",
      "\t25.69% have no author in MARC\n",
      "\t10.5% have no author in VIAF\n",
      "Renormalized:\n",
      "\t15.39% are female\n",
      "\t84.61% are male\n"
     ]
    }
   ],
   "source": [
    "print(f'In the dataset of {totalMARC:,} books:\\n\\t{round(percent(fCount+mCount, totalMARC), 2)}% have a known gender\\n\\t\\\n",
    "{round(percent(uCount, totalMARC), 2)}% are unknown\\n\\t{round(percent(aCount, totalMARC), 2)}% are ambiguous\\\n",
    "    \\n\\t{round(percent(noMARC, totalMARC), 2)}% have no author in MARC\\n\\t{round(percent(noVIAF, totalMARC), 2)}% have no author in VIAF')\n",
    "print(f'Renormalized:\\n\\t{round(renorm(fCount, mCount), 2)}% are female\\n\\t{round(renorm(mCount, fCount), 2)}% are male')"
   ]
  }
 ],
 "metadata": {
  "kernelspec": {
   "display_name": "Python 3 (ipykernel)",
   "language": "python",
   "name": "python3"
  },
  "language_info": {
   "codemirror_mode": {
    "name": "ipython",
    "version": 3
   },
   "file_extension": ".py",
   "mimetype": "text/x-python",
   "name": "python",
   "nbconvert_exporter": "python",
   "pygments_lexer": "ipython3",
   "version": "3.10.13"
  }
 },
 "nbformat": 4,
 "nbformat_minor": 5
}
